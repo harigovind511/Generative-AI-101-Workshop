{
  "nbformat": 4,
  "nbformat_minor": 0,
  "metadata": {
    "colab": {
      "provenance": [],
      "gpuType": "T4"
    },
    "kernelspec": {
      "name": "python3",
      "display_name": "Python 3"
    },
    "language_info": {
      "name": "python"
    },
    "accelerator": "GPU"
  },
  "cells": [
    {
      "cell_type": "code",
      "execution_count": null,
      "metadata": {
        "id": "rz8czBkg6OC2"
      },
      "outputs": [],
      "source": [
        "# Required Packages\n",
        "!pip install --quiet langchain langchain-community duckduckgo-search faiss-gpu pypdf sentence_transformers huggingface_hub transformers bitsandbytes accelerate"
      ]
    },
    {
      "cell_type": "code",
      "source": [
        "from langchain_community.llms.huggingface_pipeline import HuggingFacePipeline\n",
        "from langchain.chains import RetrievalQA\n",
        "from langchain import PromptTemplate, HuggingFaceHub, LLMChain\n",
        "import torch\n",
        "from transformers import BitsAndBytesConfig\n",
        "from transformers import AutoModelForCausalLM, AutoTokenizer, pipeline"
      ],
      "metadata": {
        "id": "X_aOVg_UCC1t"
      },
      "execution_count": null,
      "outputs": []
    },
    {
      "cell_type": "code",
      "source": [
        "# Define Quantization Configuration\n",
        "quantization_config = BitsAndBytesConfig(\n",
        "    load_in_4bit=True,\n",
        "    bnb_4bit_compute_dtype=torch.float16,\n",
        "    bnb_4bit_quant_type=\"nf4\",\n",
        "    bnb_4bit_use_double_quant=True,\n",
        ")"
      ],
      "metadata": {
        "id": "6TOg2p1nmZaA"
      },
      "execution_count": null,
      "outputs": []
    },
    {
      "cell_type": "code",
      "source": [
        "# Load model with quantization\n",
        "model_id = \"vilsonrodrigues/falcon-7b-instruct-sharded\"\n",
        "quant_model = AutoModelForCausalLM.from_pretrained(\n",
        "        model_id,\n",
        "        device_map=\"auto\",\n",
        "        quantization_config=quantization_config\n",
        "      )\n",
        "tokenizer = AutoTokenizer.from_pretrained(model_id)"
      ],
      "metadata": {
        "id": "s9zxoGXbmqYE"
      },
      "execution_count": null,
      "outputs": []
    },
    {
      "cell_type": "code",
      "source": [
        "# Define Huggingface Pipeline\n",
        "pipeline = pipeline(\n",
        "  \"text-generation\",\n",
        "  model=quant_model,\n",
        "  tokenizer=tokenizer,\n",
        "  use_cache=False,\n",
        "  device_map=\"auto\",\n",
        "  truncation=True,\n",
        "  max_length=256,\n",
        "  do_sample=True,\n",
        "  num_return_sequences=1,\n",
        "  eos_token_id=tokenizer.eos_token_id,\n",
        "  pad_token_id=tokenizer.eos_token_id,\n",
        ")"
      ],
      "metadata": {
        "id": "IjnriiYCdnGW"
      },
      "execution_count": null,
      "outputs": []
    },
    {
      "cell_type": "code",
      "source": [
        "# Langchain LLM Object\n",
        "hf_llm = HuggingFacePipeline(pipeline=pipeline)"
      ],
      "metadata": {
        "id": "4dxw1sziCJnw"
      },
      "execution_count": null,
      "outputs": []
    },
    {
      "cell_type": "markdown",
      "source": [
        "##### Basic LLM Chain"
      ],
      "metadata": {
        "id": "eqRo6pjDeVhC"
      }
    },
    {
      "cell_type": "code",
      "source": [
        "template = \"\"\"Question: {question}\n",
        "Answer: Let's think step by step.\"\"\"\n",
        "\n",
        "basic_qa_prompt = PromptTemplate(\n",
        "    template=template,\n",
        "    input_variables= [\"question\"]\n",
        ")\n",
        "\n",
        "llm_chain = LLMChain(prompt=basic_qa_prompt, llm=hf_llm)"
      ],
      "metadata": {
        "id": "_29prvNbeYIQ"
      },
      "execution_count": null,
      "outputs": []
    },
    {
      "cell_type": "code",
      "source": [
        "basic_qa_prompt.format(question=\"what is the meaning of life?\")"
      ],
      "metadata": {
        "id": "74w5a6FdhUSk"
      },
      "execution_count": null,
      "outputs": []
    },
    {
      "cell_type": "code",
      "source": [
        "# Generate response from Basic QA Chain\n",
        "llm_chain(\"What is the meaning of life?\")"
      ],
      "metadata": {
        "id": "S1do-gHSfzN2"
      },
      "execution_count": null,
      "outputs": []
    },
    {
      "cell_type": "markdown",
      "source": [
        "#### Agent with Function Calling"
      ],
      "metadata": {
        "id": "U_hNYBuo2YXl"
      }
    },
    {
      "cell_type": "code",
      "source": [
        "from langchain.agents import initialize_agent\n",
        "from langchain.chains.conversation.memory import ConversationBufferWindowMemory\n",
        "from langchain.agents import load_tools"
      ],
      "metadata": {
        "id": "BqkT3LIApBzF"
      },
      "execution_count": null,
      "outputs": []
    },
    {
      "cell_type": "code",
      "source": [
        "# Initialize conversational memory\n",
        "conversational_memory = ConversationBufferWindowMemory(\n",
        "    memory_key='chat_history',\n",
        "    k=5,\n",
        "    return_messages=True\n",
        ")"
      ],
      "metadata": {
        "id": "_WDD1Tz12ukJ"
      },
      "execution_count": null,
      "outputs": []
    },
    {
      "cell_type": "code",
      "source": [
        "# Define Tools to be used by Agent\n",
        "tools = load_tools([\"ddg-search\"], llm=hf_llm)"
      ],
      "metadata": {
        "id": "fZwZpuFZ4e3B"
      },
      "execution_count": null,
      "outputs": []
    },
    {
      "cell_type": "code",
      "source": [
        "# Instantiate Agent\n",
        "agent = initialize_agent(tools,\n",
        "                         hf_llm,\n",
        "                         agent=\"zero-shot-react-description\",\n",
        "                         verbose=True)"
      ],
      "metadata": {
        "id": "jwBdQP1M3_st"
      },
      "execution_count": null,
      "outputs": []
    },
    {
      "cell_type": "code",
      "source": [
        "agent.run(\"What is the best song by linkin park?\")"
      ],
      "metadata": {
        "id": "b_zcuKuK4FUz"
      },
      "execution_count": null,
      "outputs": []
    }
  ]
}